{
 "cells": [
  {
   "attachments": {},
   "cell_type": "markdown",
   "id": "dd0bad8c",
   "metadata": {},
   "source": [
    "# Prueba Tecnica\n",
    "\n",
    "    Para poder realizar cada uno de los numerales deberas buscar una relacion entre las 2 tablas para consolidarlas en una sola. Posterior a esto podras empezar con la solucion de los puntos\n",
    "\n",
    "    \n",
    "\n",
    "    Nota:  \n",
    "    - El punto A y B los debes solucionar tanto en Sql como python. El punto C lo podras realizar con el lenguaje de tu preferencia\n",
    "    - para obtener las bases de datos solo deberas ejecutar el bloque de codigo llamado 'DATA' en caso de un error puedes pedir ayuda\n",
    "    - Al terminar la prueba debes crear un repo en GitHub y nos debes mandar el link del repo al correo para revisarla (debe de ir todo el desarrollo y las bases para poder ejecutarla)"
   ]
  },
  {
   "cell_type": "markdown",
   "id": "6d171056",
   "metadata": {},
   "source": [
    "# Data"
   ]
  },
  {
   "cell_type": "code",
   "execution_count": 1,
   "id": "4c83a4a1",
   "metadata": {},
   "outputs": [],
   "source": [
    "import pandas as pd\n",
    "from os import path\n",
    "\n",
    "'''\n",
    "    Barrios: Información de los barrios (nombre y código)\n",
    "    clientes: Información transaccional del cliente\n",
    "    dispositivos: La descripcion y ubicacion de los dispositivos \n",
    "    \n",
    "'''\n",
    "\n",
    "df_barrios = pd.read_csv(path.join('Bases_insumo','barrios.csv'))\n",
    "df_clientes = pd.read_csv(path.join('Bases_insumo','clientes.csv'))\n",
    "df_dispositivos = pd.read_csv(path.join('Bases_insumo','dispositivos.csv'))\n",
    "df_dispositivos.rename({'codigo':'cod_dispositivo'}, axis = 1, inplace= True)\n",
    "\n",
    "df_join = df_barrios.merge(df_dispositivos, left_on ='codigo', \n",
    "                          right_on = 'id_barrio', how = 'inner').merge(df_clientes, on = 'cod_dispositivo', how = 'inner')\n"
   ]
  },
  {
   "cell_type": "code",
   "execution_count": 2,
   "id": "92b58f8b",
   "metadata": {},
   "outputs": [
    {
     "data": {
      "text/html": [
       "<div>\n",
       "<style scoped>\n",
       "    .dataframe tbody tr th:only-of-type {\n",
       "        vertical-align: middle;\n",
       "    }\n",
       "\n",
       "    .dataframe tbody tr th {\n",
       "        vertical-align: top;\n",
       "    }\n",
       "\n",
       "    .dataframe thead th {\n",
       "        text-align: right;\n",
       "    }\n",
       "</style>\n",
       "<table border=\"1\" class=\"dataframe\">\n",
       "  <thead>\n",
       "    <tr style=\"text-align: right;\">\n",
       "      <th></th>\n",
       "      <th>codigo</th>\n",
       "      <th>nombre</th>\n",
       "      <th>tipo</th>\n",
       "      <th>cod_dispositivo</th>\n",
       "      <th>latitud</th>\n",
       "      <th>longitud</th>\n",
       "      <th>id_barrio</th>\n",
       "      <th>num_doc</th>\n",
       "      <th>tipo_doc</th>\n",
       "      <th>canal</th>\n",
       "      <th>num_trx</th>\n",
       "      <th>mnt_total_trx</th>\n",
       "    </tr>\n",
       "  </thead>\n",
       "  <tbody>\n",
       "    <tr>\n",
       "      <th>0</th>\n",
       "      <td>737998257</td>\n",
       "      <td>La Campina</td>\n",
       "      <td>POS</td>\n",
       "      <td>12202503</td>\n",
       "      <td>3.479572</td>\n",
       "      <td>-76.525582</td>\n",
       "      <td>737998257</td>\n",
       "      <td>-2393994463924208659</td>\n",
       "      <td>1</td>\n",
       "      <td>POS</td>\n",
       "      <td>2</td>\n",
       "      <td>12202503.0</td>\n",
       "    </tr>\n",
       "    <tr>\n",
       "      <th>1</th>\n",
       "      <td>737998257</td>\n",
       "      <td>La Campina</td>\n",
       "      <td>POS</td>\n",
       "      <td>10521045</td>\n",
       "      <td>3.480517</td>\n",
       "      <td>-76.525275</td>\n",
       "      <td>737998257</td>\n",
       "      <td>-5675531380015678594</td>\n",
       "      <td>1</td>\n",
       "      <td>POS</td>\n",
       "      <td>1</td>\n",
       "      <td>5260522.5</td>\n",
       "    </tr>\n",
       "    <tr>\n",
       "      <th>2</th>\n",
       "      <td>737998257</td>\n",
       "      <td>La Campina</td>\n",
       "      <td>POS</td>\n",
       "      <td>10521045</td>\n",
       "      <td>3.480517</td>\n",
       "      <td>-76.525275</td>\n",
       "      <td>737998257</td>\n",
       "      <td>-5066077049535851626</td>\n",
       "      <td>1</td>\n",
       "      <td>POS</td>\n",
       "      <td>1</td>\n",
       "      <td>5260522.5</td>\n",
       "    </tr>\n",
       "    <tr>\n",
       "      <th>3</th>\n",
       "      <td>737998257</td>\n",
       "      <td>La Campina</td>\n",
       "      <td>POS</td>\n",
       "      <td>13238282</td>\n",
       "      <td>3.479491</td>\n",
       "      <td>-76.525818</td>\n",
       "      <td>737998257</td>\n",
       "      <td>-5791329717693361241</td>\n",
       "      <td>1</td>\n",
       "      <td>POS</td>\n",
       "      <td>1</td>\n",
       "      <td>6619141.0</td>\n",
       "    </tr>\n",
       "    <tr>\n",
       "      <th>4</th>\n",
       "      <td>737998257</td>\n",
       "      <td>La Campina</td>\n",
       "      <td>POS</td>\n",
       "      <td>12567517</td>\n",
       "      <td>3.480958</td>\n",
       "      <td>-76.525153</td>\n",
       "      <td>737998257</td>\n",
       "      <td>-397966594878551344</td>\n",
       "      <td>1</td>\n",
       "      <td>POS</td>\n",
       "      <td>1</td>\n",
       "      <td>6283758.5</td>\n",
       "    </tr>\n",
       "  </tbody>\n",
       "</table>\n",
       "</div>"
      ],
      "text/plain": [
       "      codigo      nombre tipo  cod_dispositivo   latitud   longitud  \\\n",
       "0  737998257  La Campina  POS         12202503  3.479572 -76.525582   \n",
       "1  737998257  La Campina  POS         10521045  3.480517 -76.525275   \n",
       "2  737998257  La Campina  POS         10521045  3.480517 -76.525275   \n",
       "3  737998257  La Campina  POS         13238282  3.479491 -76.525818   \n",
       "4  737998257  La Campina  POS         12567517  3.480958 -76.525153   \n",
       "\n",
       "   id_barrio              num_doc  tipo_doc canal  num_trx  mnt_total_trx  \n",
       "0  737998257 -2393994463924208659         1   POS        2     12202503.0  \n",
       "1  737998257 -5675531380015678594         1   POS        1      5260522.5  \n",
       "2  737998257 -5066077049535851626         1   POS        1      5260522.5  \n",
       "3  737998257 -5791329717693361241         1   POS        1      6619141.0  \n",
       "4  737998257  -397966594878551344         1   POS        1      6283758.5  "
      ]
     },
     "execution_count": 2,
     "metadata": {},
     "output_type": "execute_result"
    }
   ],
   "source": [
    "df_join.head(5)"
   ]
  },
  {
   "attachments": {},
   "cell_type": "markdown",
   "id": "e35ce321",
   "metadata": {},
   "source": [
    "## Eliminemos columnas duplicadas\n",
    "\n",
    "Vemos que codigo y id barrio estan duplicadas por tanto procedemos a depurar"
   ]
  },
  {
   "cell_type": "code",
   "execution_count": 3,
   "id": "5bbcd356",
   "metadata": {},
   "outputs": [],
   "source": [
    "variables_eliminar = ['id_barrio','canal']\n"
   ]
  },
  {
   "cell_type": "code",
   "execution_count": 4,
   "id": "73584258",
   "metadata": {},
   "outputs": [
    {
     "data": {
      "text/html": [
       "<div>\n",
       "<style scoped>\n",
       "    .dataframe tbody tr th:only-of-type {\n",
       "        vertical-align: middle;\n",
       "    }\n",
       "\n",
       "    .dataframe tbody tr th {\n",
       "        vertical-align: top;\n",
       "    }\n",
       "\n",
       "    .dataframe thead th {\n",
       "        text-align: right;\n",
       "    }\n",
       "</style>\n",
       "<table border=\"1\" class=\"dataframe\">\n",
       "  <thead>\n",
       "    <tr style=\"text-align: right;\">\n",
       "      <th></th>\n",
       "      <th>codigo</th>\n",
       "      <th>nombre</th>\n",
       "      <th>tipo</th>\n",
       "      <th>cod_dispositivo</th>\n",
       "      <th>latitud</th>\n",
       "      <th>longitud</th>\n",
       "      <th>num_doc</th>\n",
       "      <th>tipo_doc</th>\n",
       "      <th>num_trx</th>\n",
       "      <th>mnt_total_trx</th>\n",
       "    </tr>\n",
       "  </thead>\n",
       "  <tbody>\n",
       "    <tr>\n",
       "      <th>0</th>\n",
       "      <td>737998257</td>\n",
       "      <td>La Campina</td>\n",
       "      <td>POS</td>\n",
       "      <td>12202503</td>\n",
       "      <td>3.479572</td>\n",
       "      <td>-76.525582</td>\n",
       "      <td>-2393994463924208659</td>\n",
       "      <td>1</td>\n",
       "      <td>2</td>\n",
       "      <td>12202503.0</td>\n",
       "    </tr>\n",
       "    <tr>\n",
       "      <th>1</th>\n",
       "      <td>737998257</td>\n",
       "      <td>La Campina</td>\n",
       "      <td>POS</td>\n",
       "      <td>10521045</td>\n",
       "      <td>3.480517</td>\n",
       "      <td>-76.525275</td>\n",
       "      <td>-5675531380015678594</td>\n",
       "      <td>1</td>\n",
       "      <td>1</td>\n",
       "      <td>5260522.5</td>\n",
       "    </tr>\n",
       "    <tr>\n",
       "      <th>2</th>\n",
       "      <td>737998257</td>\n",
       "      <td>La Campina</td>\n",
       "      <td>POS</td>\n",
       "      <td>10521045</td>\n",
       "      <td>3.480517</td>\n",
       "      <td>-76.525275</td>\n",
       "      <td>-5066077049535851626</td>\n",
       "      <td>1</td>\n",
       "      <td>1</td>\n",
       "      <td>5260522.5</td>\n",
       "    </tr>\n",
       "    <tr>\n",
       "      <th>3</th>\n",
       "      <td>737998257</td>\n",
       "      <td>La Campina</td>\n",
       "      <td>POS</td>\n",
       "      <td>13238282</td>\n",
       "      <td>3.479491</td>\n",
       "      <td>-76.525818</td>\n",
       "      <td>-5791329717693361241</td>\n",
       "      <td>1</td>\n",
       "      <td>1</td>\n",
       "      <td>6619141.0</td>\n",
       "    </tr>\n",
       "    <tr>\n",
       "      <th>4</th>\n",
       "      <td>737998257</td>\n",
       "      <td>La Campina</td>\n",
       "      <td>POS</td>\n",
       "      <td>12567517</td>\n",
       "      <td>3.480958</td>\n",
       "      <td>-76.525153</td>\n",
       "      <td>-397966594878551344</td>\n",
       "      <td>1</td>\n",
       "      <td>1</td>\n",
       "      <td>6283758.5</td>\n",
       "    </tr>\n",
       "  </tbody>\n",
       "</table>\n",
       "</div>"
      ],
      "text/plain": [
       "      codigo      nombre tipo  cod_dispositivo   latitud   longitud  \\\n",
       "0  737998257  La Campina  POS         12202503  3.479572 -76.525582   \n",
       "1  737998257  La Campina  POS         10521045  3.480517 -76.525275   \n",
       "2  737998257  La Campina  POS         10521045  3.480517 -76.525275   \n",
       "3  737998257  La Campina  POS         13238282  3.479491 -76.525818   \n",
       "4  737998257  La Campina  POS         12567517  3.480958 -76.525153   \n",
       "\n",
       "               num_doc  tipo_doc  num_trx  mnt_total_trx  \n",
       "0 -2393994463924208659         1        2     12202503.0  \n",
       "1 -5675531380015678594         1        1      5260522.5  \n",
       "2 -5066077049535851626         1        1      5260522.5  \n",
       "3 -5791329717693361241         1        1      6619141.0  \n",
       "4  -397966594878551344         1        1      6283758.5  "
      ]
     },
     "execution_count": 4,
     "metadata": {},
     "output_type": "execute_result"
    }
   ],
   "source": [
    "df_join.drop(variables_eliminar, axis=1, inplace=True)\n",
    "df_join.head()"
   ]
  },
  {
   "cell_type": "markdown",
   "id": "49913285",
   "metadata": {},
   "source": [
    "# Punto a\n",
    "\n",
    "* Generar el listado de clientes con transacciones en 5 o más barrios."
   ]
  },
  {
   "attachments": {},
   "cell_type": "markdown",
   "id": "886504ac",
   "metadata": {},
   "source": [
    "### Codigo en SQL"
   ]
  },
  {
   "cell_type": "code",
   "execution_count": 5,
   "id": "8f025a62",
   "metadata": {},
   "outputs": [],
   "source": [
    "from pandasql import sqldf"
   ]
  },
  {
   "cell_type": "code",
   "execution_count": 6,
   "id": "3c53986a",
   "metadata": {},
   "outputs": [],
   "source": [
    "pysqldf = lambda q: sqldf(q, globals())"
   ]
  },
  {
   "attachments": {},
   "cell_type": "markdown",
   "id": "230d9acc",
   "metadata": {},
   "source": [
    "Select num_doc , count(distinct(nombre))\n",
    "from df_join\n",
    "group by num_doc"
   ]
  },
  {
   "cell_type": "code",
   "execution_count": 7,
   "id": "52aa9edf",
   "metadata": {},
   "outputs": [],
   "source": [
    "q = \"\"\"SELECT \n",
    "            num_doc,\n",
    "            count(distinct(nombre)) as Numero_de_barrios\n",
    "       FROM df_join \n",
    "       GROUP BY num_doc;\"\"\"\n",
    "\n",
    "resultado = pysqldf(q)"
   ]
  },
  {
   "cell_type": "code",
   "execution_count": 8,
   "id": "fc888526",
   "metadata": {},
   "outputs": [],
   "source": [
    "q = \"\"\"SELECT \n",
    "            *\n",
    "       FROM resultado \n",
    "       WHERE Numero_de_barrios>=5;\"\"\"\n",
    "\n",
    "final = pysqldf(q)"
   ]
  },
  {
   "cell_type": "code",
   "execution_count": 9,
   "id": "d186f4da",
   "metadata": {},
   "outputs": [],
   "source": [
    "final.to_excel('Bases_insumo\\Respuestas\\Rpunto a sql.xlsx')"
   ]
  },
  {
   "cell_type": "code",
   "execution_count": 10,
   "id": "7d10395d",
   "metadata": {},
   "outputs": [
    {
     "data": {
      "text/html": [
       "<div>\n",
       "<style scoped>\n",
       "    .dataframe tbody tr th:only-of-type {\n",
       "        vertical-align: middle;\n",
       "    }\n",
       "\n",
       "    .dataframe tbody tr th {\n",
       "        vertical-align: top;\n",
       "    }\n",
       "\n",
       "    .dataframe thead th {\n",
       "        text-align: right;\n",
       "    }\n",
       "</style>\n",
       "<table border=\"1\" class=\"dataframe\">\n",
       "  <thead>\n",
       "    <tr style=\"text-align: right;\">\n",
       "      <th></th>\n",
       "      <th>count(distinct(num_doc))</th>\n",
       "    </tr>\n",
       "  </thead>\n",
       "  <tbody>\n",
       "    <tr>\n",
       "      <th>0</th>\n",
       "      <td>3474</td>\n",
       "    </tr>\n",
       "  </tbody>\n",
       "</table>\n",
       "</div>"
      ],
      "text/plain": [
       "   count(distinct(num_doc))\n",
       "0                      3474"
      ]
     },
     "execution_count": 10,
     "metadata": {},
     "output_type": "execute_result"
    }
   ],
   "source": [
    "q = \"\"\"SELECT \n",
    "        count(distinct(num_doc))\n",
    "       FROM final \n",
    "       \"\"\"\n",
    "\n",
    "conteo_sql = pysqldf(q)\n",
    "conteo_sql"
   ]
  },
  {
   "attachments": {},
   "cell_type": "markdown",
   "id": "4ebd753d",
   "metadata": {},
   "source": [
    "### Codigo en python"
   ]
  },
  {
   "cell_type": "code",
   "execution_count": 11,
   "id": "cff522c8",
   "metadata": {},
   "outputs": [
    {
     "data": {
      "text/html": [
       "<div>\n",
       "<style scoped>\n",
       "    .dataframe tbody tr th:only-of-type {\n",
       "        vertical-align: middle;\n",
       "    }\n",
       "\n",
       "    .dataframe tbody tr th {\n",
       "        vertical-align: top;\n",
       "    }\n",
       "\n",
       "    .dataframe thead th {\n",
       "        text-align: right;\n",
       "    }\n",
       "</style>\n",
       "<table border=\"1\" class=\"dataframe\">\n",
       "  <thead>\n",
       "    <tr style=\"text-align: right;\">\n",
       "      <th></th>\n",
       "      <th>nombre</th>\n",
       "    </tr>\n",
       "    <tr>\n",
       "      <th>num_doc</th>\n",
       "      <th></th>\n",
       "    </tr>\n",
       "  </thead>\n",
       "  <tbody>\n",
       "    <tr>\n",
       "      <th>-9218698523982046880</th>\n",
       "      <td>8</td>\n",
       "    </tr>\n",
       "    <tr>\n",
       "      <th>-9214605575224426554</th>\n",
       "      <td>1</td>\n",
       "    </tr>\n",
       "    <tr>\n",
       "      <th>-9211522780831135515</th>\n",
       "      <td>1</td>\n",
       "    </tr>\n",
       "    <tr>\n",
       "      <th>-9210956249921547631</th>\n",
       "      <td>1</td>\n",
       "    </tr>\n",
       "    <tr>\n",
       "      <th>-9210147727599394517</th>\n",
       "      <td>7</td>\n",
       "    </tr>\n",
       "  </tbody>\n",
       "</table>\n",
       "</div>"
      ],
      "text/plain": [
       "                      nombre\n",
       "num_doc                     \n",
       "-9218698523982046880       8\n",
       "-9214605575224426554       1\n",
       "-9211522780831135515       1\n",
       "-9210956249921547631       1\n",
       "-9210147727599394517       7"
      ]
     },
     "execution_count": 11,
     "metadata": {},
     "output_type": "execute_result"
    }
   ],
   "source": [
    "conte = df_join.groupby('num_doc')['nombre'].nunique()\n",
    "conteo = pd.DataFrame(conte) \n",
    "conteo.head(5)"
   ]
  },
  {
   "cell_type": "code",
   "execution_count": 12,
   "id": "8d897a6a",
   "metadata": {},
   "outputs": [
    {
     "data": {
      "text/html": [
       "<div>\n",
       "<style scoped>\n",
       "    .dataframe tbody tr th:only-of-type {\n",
       "        vertical-align: middle;\n",
       "    }\n",
       "\n",
       "    .dataframe tbody tr th {\n",
       "        vertical-align: top;\n",
       "    }\n",
       "\n",
       "    .dataframe thead th {\n",
       "        text-align: right;\n",
       "    }\n",
       "</style>\n",
       "<table border=\"1\" class=\"dataframe\">\n",
       "  <thead>\n",
       "    <tr style=\"text-align: right;\">\n",
       "      <th></th>\n",
       "      <th>num_doc</th>\n",
       "      <th>Numero de barrios</th>\n",
       "    </tr>\n",
       "  </thead>\n",
       "  <tbody>\n",
       "    <tr>\n",
       "      <th>0</th>\n",
       "      <td>-9218698523982046880</td>\n",
       "      <td>8</td>\n",
       "    </tr>\n",
       "    <tr>\n",
       "      <th>1</th>\n",
       "      <td>-9214605575224426554</td>\n",
       "      <td>1</td>\n",
       "    </tr>\n",
       "    <tr>\n",
       "      <th>2</th>\n",
       "      <td>-9211522780831135515</td>\n",
       "      <td>1</td>\n",
       "    </tr>\n",
       "    <tr>\n",
       "      <th>3</th>\n",
       "      <td>-9210956249921547631</td>\n",
       "      <td>1</td>\n",
       "    </tr>\n",
       "    <tr>\n",
       "      <th>4</th>\n",
       "      <td>-9210147727599394517</td>\n",
       "      <td>7</td>\n",
       "    </tr>\n",
       "  </tbody>\n",
       "</table>\n",
       "</div>"
      ],
      "text/plain": [
       "               num_doc  Numero de barrios\n",
       "0 -9218698523982046880                  8\n",
       "1 -9214605575224426554                  1\n",
       "2 -9211522780831135515                  1\n",
       "3 -9210956249921547631                  1\n",
       "4 -9210147727599394517                  7"
      ]
     },
     "execution_count": 12,
     "metadata": {},
     "output_type": "execute_result"
    }
   ],
   "source": [
    "conteo.reset_index(inplace=True)\n",
    "conteo.rename({'nombre':'Numero de barrios'},axis = 1, inplace=True)\n",
    "conteo.head()"
   ]
  },
  {
   "cell_type": "code",
   "execution_count": 13,
   "id": "c7a97ba4",
   "metadata": {},
   "outputs": [],
   "source": [
    "conteo_filtro = conteo[conteo['Numero de barrios']>=5]"
   ]
  },
  {
   "cell_type": "code",
   "execution_count": 14,
   "id": "8cb08f10",
   "metadata": {},
   "outputs": [],
   "source": [
    "conteo_filtro.to_excel('Bases_insumo\\Respuestas\\Rpunto a Python.xlsx')"
   ]
  },
  {
   "cell_type": "code",
   "execution_count": 15,
   "id": "38e2cb5d",
   "metadata": {},
   "outputs": [
    {
     "name": "stdout",
     "output_type": "stream",
     "text": [
      "El numero total de clientes unicos es: 10000\n",
      "El numero total de clientes unicos que han transado en cinco o mas barrios: 3474\n"
     ]
    }
   ],
   "source": [
    "print('El numero total de clientes unicos es: ' + str(conteo.shape[0]))\n",
    "print('El numero total de clientes unicos que han transado en cinco o mas barrios: ' + str(conteo_filtro.shape[0]))\n"
   ]
  },
  {
   "cell_type": "markdown",
   "id": "6107818a",
   "metadata": {},
   "source": [
    "# Punto b\n",
    "\n",
    "* ¿Cuáles son los 6 barrios donde la mayor cantidad de clientes únicos realizan transacciones en\n",
    "dispositivos tipo PAC? La respuesta debe incluir la cantidad de clientes únicos asociados a estos\n",
    "barrios.\n"
   ]
  },
  {
   "attachments": {},
   "cell_type": "markdown",
   "id": "31e10d81",
   "metadata": {},
   "source": [
    "### Codigo en SQL"
   ]
  },
  {
   "cell_type": "code",
   "execution_count": 16,
   "id": "cce34643",
   "metadata": {},
   "outputs": [],
   "source": [
    "r = \"\"\"SELECT \n",
    "           nombre,\n",
    "           count(distinct(num_doc)) as numero_clientes\n",
    "       FROM df_join \n",
    "       WHERE tipo= \"PAC\"\n",
    "       GROUP BY nombre\n",
    "       order by 2 desc;\"\"\"\n",
    "\n",
    "resultado_b = pysqldf(r)"
   ]
  },
  {
   "cell_type": "code",
   "execution_count": 17,
   "id": "cae6a7ef",
   "metadata": {},
   "outputs": [
    {
     "data": {
      "text/html": [
       "<div>\n",
       "<style scoped>\n",
       "    .dataframe tbody tr th:only-of-type {\n",
       "        vertical-align: middle;\n",
       "    }\n",
       "\n",
       "    .dataframe tbody tr th {\n",
       "        vertical-align: top;\n",
       "    }\n",
       "\n",
       "    .dataframe thead th {\n",
       "        text-align: right;\n",
       "    }\n",
       "</style>\n",
       "<table border=\"1\" class=\"dataframe\">\n",
       "  <thead>\n",
       "    <tr style=\"text-align: right;\">\n",
       "      <th></th>\n",
       "      <th>nombre</th>\n",
       "      <th>numero_clientes</th>\n",
       "    </tr>\n",
       "  </thead>\n",
       "  <tbody>\n",
       "    <tr>\n",
       "      <th>0</th>\n",
       "      <td>San Nicolás</td>\n",
       "      <td>5</td>\n",
       "    </tr>\n",
       "    <tr>\n",
       "      <th>1</th>\n",
       "      <td>San Pedro</td>\n",
       "      <td>4</td>\n",
       "    </tr>\n",
       "    <tr>\n",
       "      <th>2</th>\n",
       "      <td>Colseguros Andes</td>\n",
       "      <td>4</td>\n",
       "    </tr>\n",
       "    <tr>\n",
       "      <th>3</th>\n",
       "      <td>Prados del Norte</td>\n",
       "      <td>1</td>\n",
       "    </tr>\n",
       "    <tr>\n",
       "      <th>4</th>\n",
       "      <td>Las Delicias</td>\n",
       "      <td>1</td>\n",
       "    </tr>\n",
       "    <tr>\n",
       "      <th>5</th>\n",
       "      <td>El Troncal</td>\n",
       "      <td>1</td>\n",
       "    </tr>\n",
       "  </tbody>\n",
       "</table>\n",
       "</div>"
      ],
      "text/plain": [
       "             nombre  numero_clientes\n",
       "0       San Nicolás                5\n",
       "1         San Pedro                4\n",
       "2  Colseguros Andes                4\n",
       "3  Prados del Norte                1\n",
       "4      Las Delicias                1\n",
       "5        El Troncal                1"
      ]
     },
     "execution_count": 17,
     "metadata": {},
     "output_type": "execute_result"
    }
   ],
   "source": [
    "resultado_b"
   ]
  },
  {
   "cell_type": "code",
   "execution_count": 18,
   "id": "28f603b3",
   "metadata": {},
   "outputs": [],
   "source": [
    "resultado_b.to_excel('Bases_insumo\\Respuestas\\Rpunto b SQL.xlsx',index = False)"
   ]
  },
  {
   "attachments": {},
   "cell_type": "markdown",
   "id": "495a1f66",
   "metadata": {},
   "source": [
    "### Codigo en python"
   ]
  },
  {
   "cell_type": "code",
   "execution_count": 19,
   "id": "648825fa",
   "metadata": {},
   "outputs": [
    {
     "data": {
      "text/html": [
       "<div>\n",
       "<style scoped>\n",
       "    .dataframe tbody tr th:only-of-type {\n",
       "        vertical-align: middle;\n",
       "    }\n",
       "\n",
       "    .dataframe tbody tr th {\n",
       "        vertical-align: top;\n",
       "    }\n",
       "\n",
       "    .dataframe thead th {\n",
       "        text-align: right;\n",
       "    }\n",
       "</style>\n",
       "<table border=\"1\" class=\"dataframe\">\n",
       "  <thead>\n",
       "    <tr style=\"text-align: right;\">\n",
       "      <th></th>\n",
       "      <th>nombre</th>\n",
       "      <th>num_doc</th>\n",
       "    </tr>\n",
       "  </thead>\n",
       "  <tbody>\n",
       "    <tr>\n",
       "      <th>0</th>\n",
       "      <td>San Nicolás</td>\n",
       "      <td>5</td>\n",
       "    </tr>\n",
       "    <tr>\n",
       "      <th>1</th>\n",
       "      <td>Colseguros Andes</td>\n",
       "      <td>4</td>\n",
       "    </tr>\n",
       "    <tr>\n",
       "      <th>2</th>\n",
       "      <td>San Pedro</td>\n",
       "      <td>4</td>\n",
       "    </tr>\n",
       "    <tr>\n",
       "      <th>3</th>\n",
       "      <td>El Troncal</td>\n",
       "      <td>1</td>\n",
       "    </tr>\n",
       "    <tr>\n",
       "      <th>4</th>\n",
       "      <td>Las Delicias</td>\n",
       "      <td>1</td>\n",
       "    </tr>\n",
       "  </tbody>\n",
       "</table>\n",
       "</div>"
      ],
      "text/plain": [
       "             nombre  num_doc\n",
       "0       San Nicolás        5\n",
       "1  Colseguros Andes        4\n",
       "2         San Pedro        4\n",
       "3        El Troncal        1\n",
       "4      Las Delicias        1"
      ]
     },
     "execution_count": 19,
     "metadata": {},
     "output_type": "execute_result"
    }
   ],
   "source": [
    "df_join_filter = df_join[df_join['tipo']==\"PAC\"]\n",
    "conteb = df_join_filter.groupby(['nombre'])['num_doc'].nunique().sort_values(ascending=False)\n",
    "conteob = pd.DataFrame(conteb) \n",
    "conteob.reset_index(inplace=True)\n",
    "conteob.head(5)"
   ]
  },
  {
   "cell_type": "code",
   "execution_count": 20,
   "id": "1a66c39e",
   "metadata": {},
   "outputs": [],
   "source": [
    "conteob.to_excel('Bases_insumo\\Respuestas\\Rpunto b Python.xlsx',index = False)"
   ]
  },
  {
   "cell_type": "code",
   "execution_count": 21,
   "id": "9ff720a1",
   "metadata": {},
   "outputs": [
    {
     "data": {
      "text/html": [
       "<div>\n",
       "<style scoped>\n",
       "    .dataframe tbody tr th:only-of-type {\n",
       "        vertical-align: middle;\n",
       "    }\n",
       "\n",
       "    .dataframe tbody tr th {\n",
       "        vertical-align: top;\n",
       "    }\n",
       "\n",
       "    .dataframe thead th {\n",
       "        text-align: right;\n",
       "    }\n",
       "</style>\n",
       "<table border=\"1\" class=\"dataframe\">\n",
       "  <thead>\n",
       "    <tr style=\"text-align: right;\">\n",
       "      <th></th>\n",
       "      <th>nombre</th>\n",
       "      <th>num_doc</th>\n",
       "    </tr>\n",
       "  </thead>\n",
       "  <tbody>\n",
       "    <tr>\n",
       "      <th>0</th>\n",
       "      <td>San Nicolás</td>\n",
       "      <td>5</td>\n",
       "    </tr>\n",
       "    <tr>\n",
       "      <th>1</th>\n",
       "      <td>Colseguros Andes</td>\n",
       "      <td>4</td>\n",
       "    </tr>\n",
       "    <tr>\n",
       "      <th>2</th>\n",
       "      <td>San Pedro</td>\n",
       "      <td>4</td>\n",
       "    </tr>\n",
       "    <tr>\n",
       "      <th>3</th>\n",
       "      <td>El Troncal</td>\n",
       "      <td>1</td>\n",
       "    </tr>\n",
       "    <tr>\n",
       "      <th>4</th>\n",
       "      <td>Las Delicias</td>\n",
       "      <td>1</td>\n",
       "    </tr>\n",
       "  </tbody>\n",
       "</table>\n",
       "</div>"
      ],
      "text/plain": [
       "             nombre  num_doc\n",
       "0       San Nicolás        5\n",
       "1  Colseguros Andes        4\n",
       "2         San Pedro        4\n",
       "3        El Troncal        1\n",
       "4      Las Delicias        1"
      ]
     },
     "execution_count": 21,
     "metadata": {},
     "output_type": "execute_result"
    }
   ],
   "source": [
    "conteob.head()"
   ]
  },
  {
   "attachments": {},
   "cell_type": "markdown",
   "id": "296eacea",
   "metadata": {},
   "source": [
    "Los barrios donde los clientes han realizado transacciones en canal PAC son: San Niocolás, San Pedro, Colseguros, Prados del Norte, Las Delicias y El Troncal. Son los únicos 6 barrios donde los clientes han realizado transacciones por este canal."
   ]
  },
  {
   "attachments": {},
   "cell_type": "markdown",
   "id": "daf00ac8",
   "metadata": {},
   "source": [
    "# Punto c\n",
    "\n",
    "* Identifique cual es el mejor  y peor canal para cada uno de los barrios. Debes dar una explicacion teorica de como mejorarias el movimiento del mejor canal sin afectar al canal de estrella de cada barrio \n"
   ]
  },
  {
   "cell_type": "code",
   "execution_count": 22,
   "id": "8c6c6730",
   "metadata": {},
   "outputs": [
    {
     "data": {
      "text/html": [
       "<div>\n",
       "<style scoped>\n",
       "    .dataframe tbody tr th:only-of-type {\n",
       "        vertical-align: middle;\n",
       "    }\n",
       "\n",
       "    .dataframe tbody tr th {\n",
       "        vertical-align: top;\n",
       "    }\n",
       "\n",
       "    .dataframe thead th {\n",
       "        text-align: right;\n",
       "    }\n",
       "</style>\n",
       "<table border=\"1\" class=\"dataframe\">\n",
       "  <thead>\n",
       "    <tr style=\"text-align: right;\">\n",
       "      <th></th>\n",
       "      <th>codigo</th>\n",
       "      <th>nombre</th>\n",
       "      <th>tipo</th>\n",
       "      <th>cod_dispositivo</th>\n",
       "      <th>latitud</th>\n",
       "      <th>longitud</th>\n",
       "      <th>num_doc</th>\n",
       "      <th>tipo_doc</th>\n",
       "      <th>num_trx</th>\n",
       "      <th>mnt_total_trx</th>\n",
       "    </tr>\n",
       "  </thead>\n",
       "  <tbody>\n",
       "    <tr>\n",
       "      <th>0</th>\n",
       "      <td>737998257</td>\n",
       "      <td>La Campina</td>\n",
       "      <td>POS</td>\n",
       "      <td>12202503</td>\n",
       "      <td>3.479572</td>\n",
       "      <td>-76.525582</td>\n",
       "      <td>-2393994463924208659</td>\n",
       "      <td>1</td>\n",
       "      <td>2</td>\n",
       "      <td>12202503.0</td>\n",
       "    </tr>\n",
       "    <tr>\n",
       "      <th>1</th>\n",
       "      <td>737998257</td>\n",
       "      <td>La Campina</td>\n",
       "      <td>POS</td>\n",
       "      <td>10521045</td>\n",
       "      <td>3.480517</td>\n",
       "      <td>-76.525275</td>\n",
       "      <td>-5675531380015678594</td>\n",
       "      <td>1</td>\n",
       "      <td>1</td>\n",
       "      <td>5260522.5</td>\n",
       "    </tr>\n",
       "    <tr>\n",
       "      <th>2</th>\n",
       "      <td>737998257</td>\n",
       "      <td>La Campina</td>\n",
       "      <td>POS</td>\n",
       "      <td>10521045</td>\n",
       "      <td>3.480517</td>\n",
       "      <td>-76.525275</td>\n",
       "      <td>-5066077049535851626</td>\n",
       "      <td>1</td>\n",
       "      <td>1</td>\n",
       "      <td>5260522.5</td>\n",
       "    </tr>\n",
       "    <tr>\n",
       "      <th>3</th>\n",
       "      <td>737998257</td>\n",
       "      <td>La Campina</td>\n",
       "      <td>POS</td>\n",
       "      <td>13238282</td>\n",
       "      <td>3.479491</td>\n",
       "      <td>-76.525818</td>\n",
       "      <td>-5791329717693361241</td>\n",
       "      <td>1</td>\n",
       "      <td>1</td>\n",
       "      <td>6619141.0</td>\n",
       "    </tr>\n",
       "    <tr>\n",
       "      <th>4</th>\n",
       "      <td>737998257</td>\n",
       "      <td>La Campina</td>\n",
       "      <td>POS</td>\n",
       "      <td>12567517</td>\n",
       "      <td>3.480958</td>\n",
       "      <td>-76.525153</td>\n",
       "      <td>-397966594878551344</td>\n",
       "      <td>1</td>\n",
       "      <td>1</td>\n",
       "      <td>6283758.5</td>\n",
       "    </tr>\n",
       "  </tbody>\n",
       "</table>\n",
       "</div>"
      ],
      "text/plain": [
       "      codigo      nombre tipo  cod_dispositivo   latitud   longitud  \\\n",
       "0  737998257  La Campina  POS         12202503  3.479572 -76.525582   \n",
       "1  737998257  La Campina  POS         10521045  3.480517 -76.525275   \n",
       "2  737998257  La Campina  POS         10521045  3.480517 -76.525275   \n",
       "3  737998257  La Campina  POS         13238282  3.479491 -76.525818   \n",
       "4  737998257  La Campina  POS         12567517  3.480958 -76.525153   \n",
       "\n",
       "               num_doc  tipo_doc  num_trx  mnt_total_trx  \n",
       "0 -2393994463924208659         1        2     12202503.0  \n",
       "1 -5675531380015678594         1        1      5260522.5  \n",
       "2 -5066077049535851626         1        1      5260522.5  \n",
       "3 -5791329717693361241         1        1      6619141.0  \n",
       "4  -397966594878551344         1        1      6283758.5  "
      ]
     },
     "execution_count": 22,
     "metadata": {},
     "output_type": "execute_result"
    }
   ],
   "source": [
    "df_join.head()"
   ]
  },
  {
   "cell_type": "code",
   "execution_count": 23,
   "id": "4364f10e",
   "metadata": {},
   "outputs": [],
   "source": [
    "df_agg = df_join.groupby(['codigo','nombre','tipo']).agg({'num_trx': 'sum'}).sort_values(['codigo','num_trx'], ascending=False)"
   ]
  },
  {
   "cell_type": "code",
   "execution_count": 24,
   "id": "cb0339af",
   "metadata": {},
   "outputs": [],
   "source": [
    "df_agg.reset_index(inplace=True)"
   ]
  },
  {
   "cell_type": "code",
   "execution_count": 25,
   "id": "2f39a4f3",
   "metadata": {},
   "outputs": [],
   "source": [
    "a = \"\"\"SELECT \n",
    "           codigo,\n",
    "           nombre,\n",
    "           tipo,\n",
    "           num_trx,\n",
    "           RANK() OVER (PARTITION BY codigo\n",
    "                    ORDER BY num_trx asc\n",
    "                    ) AS rank\n",
    "       FROM df_agg ;\"\"\"\n",
    "\n",
    "resultado_c = pysqldf(a)"
   ]
  },
  {
   "cell_type": "code",
   "execution_count": 26,
   "id": "940af62d",
   "metadata": {},
   "outputs": [
    {
     "data": {
      "text/html": [
       "<div>\n",
       "<style scoped>\n",
       "    .dataframe tbody tr th:only-of-type {\n",
       "        vertical-align: middle;\n",
       "    }\n",
       "\n",
       "    .dataframe tbody tr th {\n",
       "        vertical-align: top;\n",
       "    }\n",
       "\n",
       "    .dataframe thead th {\n",
       "        text-align: right;\n",
       "    }\n",
       "</style>\n",
       "<table border=\"1\" class=\"dataframe\">\n",
       "  <thead>\n",
       "    <tr style=\"text-align: right;\">\n",
       "      <th></th>\n",
       "      <th>codigo</th>\n",
       "      <th>nombre</th>\n",
       "      <th>tipo</th>\n",
       "      <th>num_trx</th>\n",
       "      <th>rank</th>\n",
       "    </tr>\n",
       "  </thead>\n",
       "  <tbody>\n",
       "    <tr>\n",
       "      <th>0</th>\n",
       "      <td>737995769</td>\n",
       "      <td>Julio Rincón</td>\n",
       "      <td>CB</td>\n",
       "      <td>52</td>\n",
       "      <td>1</td>\n",
       "    </tr>\n",
       "    <tr>\n",
       "      <th>1</th>\n",
       "      <td>737995769</td>\n",
       "      <td>Julio Rincón</td>\n",
       "      <td>POS</td>\n",
       "      <td>425</td>\n",
       "      <td>2</td>\n",
       "    </tr>\n",
       "    <tr>\n",
       "      <th>2</th>\n",
       "      <td>737995769</td>\n",
       "      <td>Julio Rincón</td>\n",
       "      <td>DISPENSADOR</td>\n",
       "      <td>3041</td>\n",
       "      <td>3</td>\n",
       "    </tr>\n",
       "    <tr>\n",
       "      <th>3</th>\n",
       "      <td>737995777</td>\n",
       "      <td>Los Rubles</td>\n",
       "      <td>POS</td>\n",
       "      <td>5</td>\n",
       "      <td>1</td>\n",
       "    </tr>\n",
       "    <tr>\n",
       "      <th>4</th>\n",
       "      <td>737996696</td>\n",
       "      <td>Aguacatal</td>\n",
       "      <td>CB</td>\n",
       "      <td>20</td>\n",
       "      <td>1</td>\n",
       "    </tr>\n",
       "    <tr>\n",
       "      <th>...</th>\n",
       "      <td>...</td>\n",
       "      <td>...</td>\n",
       "      <td>...</td>\n",
       "      <td>...</td>\n",
       "      <td>...</td>\n",
       "    </tr>\n",
       "    <tr>\n",
       "      <th>564</th>\n",
       "      <td>738018187</td>\n",
       "      <td>Urbanización Río Lili</td>\n",
       "      <td>DISPENSADOR</td>\n",
       "      <td>1696</td>\n",
       "      <td>5</td>\n",
       "    </tr>\n",
       "    <tr>\n",
       "      <th>565</th>\n",
       "      <td>738068452</td>\n",
       "      <td>Junin</td>\n",
       "      <td>CB</td>\n",
       "      <td>124</td>\n",
       "      <td>1</td>\n",
       "    </tr>\n",
       "    <tr>\n",
       "      <th>566</th>\n",
       "      <td>738068452</td>\n",
       "      <td>Junin</td>\n",
       "      <td>POS</td>\n",
       "      <td>128</td>\n",
       "      <td>2</td>\n",
       "    </tr>\n",
       "    <tr>\n",
       "      <th>567</th>\n",
       "      <td>738068452</td>\n",
       "      <td>Junin</td>\n",
       "      <td>SAI</td>\n",
       "      <td>627</td>\n",
       "      <td>3</td>\n",
       "    </tr>\n",
       "    <tr>\n",
       "      <th>568</th>\n",
       "      <td>738068452</td>\n",
       "      <td>Junin</td>\n",
       "      <td>DISPENSADOR</td>\n",
       "      <td>952</td>\n",
       "      <td>4</td>\n",
       "    </tr>\n",
       "  </tbody>\n",
       "</table>\n",
       "<p>569 rows × 5 columns</p>\n",
       "</div>"
      ],
      "text/plain": [
       "        codigo                 nombre         tipo  num_trx  rank\n",
       "0    737995769           Julio Rincón           CB       52     1\n",
       "1    737995769           Julio Rincón          POS      425     2\n",
       "2    737995769           Julio Rincón  DISPENSADOR     3041     3\n",
       "3    737995777             Los Rubles          POS        5     1\n",
       "4    737996696              Aguacatal           CB       20     1\n",
       "..         ...                    ...          ...      ...   ...\n",
       "564  738018187  Urbanización Río Lili  DISPENSADOR     1696     5\n",
       "565  738068452                  Junin           CB      124     1\n",
       "566  738068452                  Junin          POS      128     2\n",
       "567  738068452                  Junin          SAI      627     3\n",
       "568  738068452                  Junin  DISPENSADOR      952     4\n",
       "\n",
       "[569 rows x 5 columns]"
      ]
     },
     "execution_count": 26,
     "metadata": {},
     "output_type": "execute_result"
    }
   ],
   "source": [
    "resultado_c"
   ]
  },
  {
   "cell_type": "code",
   "execution_count": 27,
   "id": "40e65f62",
   "metadata": {},
   "outputs": [],
   "source": [
    "b = \"\"\"SELECT \n",
    "           codigo,\n",
    "           max(rank) as canal_e,\n",
    "           min(rank) as canal_o\n",
    "       FROM resultado_c\n",
    "        GROUP BY 1 ;\"\"\"\n",
    "\n",
    "resultado_c2 = pysqldf(b)"
   ]
  },
  {
   "cell_type": "code",
   "execution_count": 28,
   "id": "048b47ea",
   "metadata": {},
   "outputs": [],
   "source": [
    "resultado_c = resultado_c.merge(resultado_c2)\n",
    "\n",
    "c = \"\"\"\n",
    "    SELECT \n",
    "           codigo,\n",
    "           nombre,\n",
    "           case when canal_e=rank then tipo else null end as estrella\n",
    "       FROM resultado_c;\"\"\"\n",
    "\n",
    "canal_e = pysqldf(c)\n",
    "\n",
    "\n",
    "\n",
    "c = \"\"\"\n",
    "    SELECT *\n",
    "       FROM canal_e\n",
    "       WHERE estrella is not null;\"\"\"\n",
    "\n",
    "canal_e = pysqldf(c)\n"
   ]
  },
  {
   "cell_type": "code",
   "execution_count": 29,
   "id": "157383e4",
   "metadata": {},
   "outputs": [
    {
     "data": {
      "text/html": [
       "<div>\n",
       "<style scoped>\n",
       "    .dataframe tbody tr th:only-of-type {\n",
       "        vertical-align: middle;\n",
       "    }\n",
       "\n",
       "    .dataframe tbody tr th {\n",
       "        vertical-align: top;\n",
       "    }\n",
       "\n",
       "    .dataframe thead th {\n",
       "        text-align: right;\n",
       "    }\n",
       "</style>\n",
       "<table border=\"1\" class=\"dataframe\">\n",
       "  <thead>\n",
       "    <tr style=\"text-align: right;\">\n",
       "      <th></th>\n",
       "      <th>codigo</th>\n",
       "      <th>nombre</th>\n",
       "      <th>estrella</th>\n",
       "    </tr>\n",
       "  </thead>\n",
       "  <tbody>\n",
       "    <tr>\n",
       "      <th>0</th>\n",
       "      <td>737995769</td>\n",
       "      <td>Julio Rincón</td>\n",
       "      <td>DISPENSADOR</td>\n",
       "    </tr>\n",
       "    <tr>\n",
       "      <th>1</th>\n",
       "      <td>737995777</td>\n",
       "      <td>Los Rubles</td>\n",
       "      <td>POS</td>\n",
       "    </tr>\n",
       "    <tr>\n",
       "      <th>2</th>\n",
       "      <td>737996696</td>\n",
       "      <td>Aguacatal</td>\n",
       "      <td>CB</td>\n",
       "    </tr>\n",
       "    <tr>\n",
       "      <th>3</th>\n",
       "      <td>737996724</td>\n",
       "      <td>Terrón Colorado</td>\n",
       "      <td>CB</td>\n",
       "    </tr>\n",
       "    <tr>\n",
       "      <th>4</th>\n",
       "      <td>737996726</td>\n",
       "      <td>El Vergel</td>\n",
       "      <td>CB</td>\n",
       "    </tr>\n",
       "    <tr>\n",
       "      <th>...</th>\n",
       "      <td>...</td>\n",
       "      <td>...</td>\n",
       "      <td>...</td>\n",
       "    </tr>\n",
       "    <tr>\n",
       "      <th>275</th>\n",
       "      <td>738017956</td>\n",
       "      <td>Brisas del Limonar</td>\n",
       "      <td>POS</td>\n",
       "    </tr>\n",
       "    <tr>\n",
       "      <th>276</th>\n",
       "      <td>738017969</td>\n",
       "      <td>Las Acacias</td>\n",
       "      <td>DISPENSADOR</td>\n",
       "    </tr>\n",
       "    <tr>\n",
       "      <th>277</th>\n",
       "      <td>738018074</td>\n",
       "      <td>San Cristobal</td>\n",
       "      <td>DISPENSADOR</td>\n",
       "    </tr>\n",
       "    <tr>\n",
       "      <th>278</th>\n",
       "      <td>738018187</td>\n",
       "      <td>Urbanización Río Lili</td>\n",
       "      <td>DISPENSADOR</td>\n",
       "    </tr>\n",
       "    <tr>\n",
       "      <th>279</th>\n",
       "      <td>738068452</td>\n",
       "      <td>Junin</td>\n",
       "      <td>DISPENSADOR</td>\n",
       "    </tr>\n",
       "  </tbody>\n",
       "</table>\n",
       "<p>280 rows × 3 columns</p>\n",
       "</div>"
      ],
      "text/plain": [
       "        codigo                 nombre     estrella\n",
       "0    737995769           Julio Rincón  DISPENSADOR\n",
       "1    737995777             Los Rubles          POS\n",
       "2    737996696              Aguacatal           CB\n",
       "3    737996724        Terrón Colorado           CB\n",
       "4    737996726              El Vergel           CB\n",
       "..         ...                    ...          ...\n",
       "275  738017956     Brisas del Limonar          POS\n",
       "276  738017969            Las Acacias  DISPENSADOR\n",
       "277  738018074          San Cristobal  DISPENSADOR\n",
       "278  738018187  Urbanización Río Lili  DISPENSADOR\n",
       "279  738068452                  Junin  DISPENSADOR\n",
       "\n",
       "[280 rows x 3 columns]"
      ]
     },
     "execution_count": 29,
     "metadata": {},
     "output_type": "execute_result"
    }
   ],
   "source": [
    "canal_e"
   ]
  },
  {
   "cell_type": "code",
   "execution_count": 30,
   "id": "63bd7e61",
   "metadata": {},
   "outputs": [],
   "source": [
    "d = \"\"\"\n",
    "    SELECT \n",
    "           codigo,\n",
    "           nombre,\n",
    "           case when canal_o=rank then tipo else null end as oportunidad\n",
    "       FROM resultado_c;\"\"\"\n",
    "\n",
    "canal_o = pysqldf(d)\n",
    "\n",
    "d = \"\"\"\n",
    "    SELECT *\n",
    "       FROM canal_o\n",
    "       WHERE oportunidad is not null;\"\"\"\n",
    "\n",
    "canal_o = pysqldf(d)\n"
   ]
  },
  {
   "cell_type": "code",
   "execution_count": 31,
   "id": "9941b2ee",
   "metadata": {},
   "outputs": [],
   "source": [
    "df_c = df_join['codigo'].unique()\n",
    "df_c = pd.DataFrame(df_c, columns=['codigo'])\n",
    "df_c = df_c.merge(canal_e, how='left').merge(canal_o[['codigo','oportunidad']], how='left')\n"
   ]
  },
  {
   "cell_type": "code",
   "execution_count": 32,
   "id": "3dc2d62e",
   "metadata": {},
   "outputs": [],
   "source": [
    "\n",
    "\n",
    "e = \"\"\"\n",
    "    SELECT codigo,\n",
    "            nombre,\n",
    "            estrella,\n",
    "            oportunidad,\n",
    "            case when estrella = oportunidad then 'SI' else 'NO' end as canal_unico\n",
    "       FROM df_c;\"\"\"\n",
    "\n",
    "df_c = pysqldf(e)"
   ]
  },
  {
   "cell_type": "code",
   "execution_count": 33,
   "id": "8c1da8c5",
   "metadata": {},
   "outputs": [
    {
     "data": {
      "text/html": [
       "<div>\n",
       "<style scoped>\n",
       "    .dataframe tbody tr th:only-of-type {\n",
       "        vertical-align: middle;\n",
       "    }\n",
       "\n",
       "    .dataframe tbody tr th {\n",
       "        vertical-align: top;\n",
       "    }\n",
       "\n",
       "    .dataframe thead th {\n",
       "        text-align: right;\n",
       "    }\n",
       "</style>\n",
       "<table border=\"1\" class=\"dataframe\">\n",
       "  <thead>\n",
       "    <tr style=\"text-align: right;\">\n",
       "      <th></th>\n",
       "      <th>codigo</th>\n",
       "      <th>nombre</th>\n",
       "      <th>estrella</th>\n",
       "      <th>oportunidad</th>\n",
       "      <th>canal_unico</th>\n",
       "    </tr>\n",
       "  </thead>\n",
       "  <tbody>\n",
       "    <tr>\n",
       "      <th>0</th>\n",
       "      <td>737998257</td>\n",
       "      <td>La Campina</td>\n",
       "      <td>POS</td>\n",
       "      <td>POS</td>\n",
       "      <td>SI</td>\n",
       "    </tr>\n",
       "    <tr>\n",
       "      <th>1</th>\n",
       "      <td>737999435</td>\n",
       "      <td>Guayaquil</td>\n",
       "      <td>DISPENSADOR</td>\n",
       "      <td>CB</td>\n",
       "      <td>NO</td>\n",
       "    </tr>\n",
       "    <tr>\n",
       "      <th>2</th>\n",
       "      <td>737998219</td>\n",
       "      <td>Vipasa</td>\n",
       "      <td>DISPENSADOR</td>\n",
       "      <td>CB</td>\n",
       "      <td>NO</td>\n",
       "    </tr>\n",
       "    <tr>\n",
       "      <th>3</th>\n",
       "      <td>737996837</td>\n",
       "      <td>Lourdes</td>\n",
       "      <td>POS</td>\n",
       "      <td>POS</td>\n",
       "      <td>SI</td>\n",
       "    </tr>\n",
       "    <tr>\n",
       "      <th>4</th>\n",
       "      <td>737997031</td>\n",
       "      <td>Villanueva</td>\n",
       "      <td>POS</td>\n",
       "      <td>POS</td>\n",
       "      <td>SI</td>\n",
       "    </tr>\n",
       "    <tr>\n",
       "      <th>...</th>\n",
       "      <td>...</td>\n",
       "      <td>...</td>\n",
       "      <td>...</td>\n",
       "      <td>...</td>\n",
       "      <td>...</td>\n",
       "    </tr>\n",
       "    <tr>\n",
       "      <th>282</th>\n",
       "      <td>737997007</td>\n",
       "      <td>Alfonso López II</td>\n",
       "      <td>POS</td>\n",
       "      <td>POS</td>\n",
       "      <td>SI</td>\n",
       "    </tr>\n",
       "    <tr>\n",
       "      <th>283</th>\n",
       "      <td>737999402</td>\n",
       "      <td>Alfonso López III</td>\n",
       "      <td>POS</td>\n",
       "      <td>CB</td>\n",
       "      <td>NO</td>\n",
       "    </tr>\n",
       "    <tr>\n",
       "      <th>284</th>\n",
       "      <td>737998799</td>\n",
       "      <td>Ignacio Rengifo</td>\n",
       "      <td>POS</td>\n",
       "      <td>POS</td>\n",
       "      <td>SI</td>\n",
       "    </tr>\n",
       "    <tr>\n",
       "      <th>285</th>\n",
       "      <td>738000408</td>\n",
       "      <td>Prados del Limonar</td>\n",
       "      <td>DISPENSADOR</td>\n",
       "      <td>POS</td>\n",
       "      <td>NO</td>\n",
       "    </tr>\n",
       "    <tr>\n",
       "      <th>286</th>\n",
       "      <td>737998035</td>\n",
       "      <td>Ciudadela del Río</td>\n",
       "      <td>POS</td>\n",
       "      <td>POS</td>\n",
       "      <td>SI</td>\n",
       "    </tr>\n",
       "  </tbody>\n",
       "</table>\n",
       "<p>287 rows × 5 columns</p>\n",
       "</div>"
      ],
      "text/plain": [
       "        codigo              nombre     estrella oportunidad canal_unico\n",
       "0    737998257          La Campina          POS         POS          SI\n",
       "1    737999435           Guayaquil  DISPENSADOR          CB          NO\n",
       "2    737998219              Vipasa  DISPENSADOR          CB          NO\n",
       "3    737996837             Lourdes          POS         POS          SI\n",
       "4    737997031          Villanueva          POS         POS          SI\n",
       "..         ...                 ...          ...         ...         ...\n",
       "282  737997007    Alfonso López II          POS         POS          SI\n",
       "283  737999402   Alfonso López III          POS          CB          NO\n",
       "284  737998799     Ignacio Rengifo          POS         POS          SI\n",
       "285  738000408  Prados del Limonar  DISPENSADOR         POS          NO\n",
       "286  737998035   Ciudadela del Río          POS         POS          SI\n",
       "\n",
       "[287 rows x 5 columns]"
      ]
     },
     "execution_count": 33,
     "metadata": {},
     "output_type": "execute_result"
    }
   ],
   "source": [
    "df_c"
   ]
  },
  {
   "cell_type": "code",
   "execution_count": 34,
   "id": "b152cfa4",
   "metadata": {},
   "outputs": [],
   "source": [
    "df_c.to_excel('Bases_insumo\\Respuestas\\Rpunto c.xlsx',index = False)"
   ]
  },
  {
   "cell_type": "code",
   "execution_count": 35,
   "id": "5b9e4769",
   "metadata": {},
   "outputs": [
    {
     "data": {
      "text/plain": [
       "NO    176\n",
       "SI    111\n",
       "Name: canal_unico, dtype: int64"
      ]
     },
     "execution_count": 35,
     "metadata": {},
     "output_type": "execute_result"
    }
   ],
   "source": [
    "df_c['canal_unico'].value_counts()"
   ]
  },
  {
   "attachments": {},
   "cell_type": "markdown",
   "id": "60c9fd0b",
   "metadata": {},
   "source": [
    "El canal estrella y el canal oprtunidad (menos transacciones) para cada barrio puede visualizarse en la tabla df_c. El criterio utilizado para la selección de cada uno fue el número de trx. \n",
    "\n",
    " Además.se ha creado una columna llamada 'canal_unico', como indicadora para aquellos barrios en los que el canal estrella es igual al canal oportunidad, es decir, tienen un solo canal de transacción. "
   ]
  },
  {
   "attachments": {},
   "cell_type": "markdown",
   "id": "e381c45e",
   "metadata": {},
   "source": [
    "### Estrategias"
   ]
  },
  {
   "attachments": {},
   "cell_type": "markdown",
   "id": "b6fd8403",
   "metadata": {},
   "source": [
    "De 288 barrios con transacciones, 176 solo tienen asociado un canal de transacción mientras que los 111 restantes si presentan un canal estrella y un canal oportunidad. Respecto a los primeros, la estrategia propuesta sería potenciar un segundo canal. La selección de éste sería a través de la identificación del canal estrella de los barrios cercanos a su zona.\n",
    "\n",
    "Deben enfocarse los esfuerzos en canales más costoeficientes. Si el canal estrella es menos costoeficiente que el canal oportunidad, debería haber una especialización por el oportunidad, así ello implique que el estrella pierda participación. Sin embargo, si sucede lo contrario y el canal estrella es más costoeficiente, debería recomponerse la participación de los canales e incluso lograr mayor incidencia del canal estrella dentro del comportamiento transanccional de los barrios. "
   ]
  },
  {
   "attachments": {},
   "cell_type": "markdown",
   "id": "66d5df20",
   "metadata": {},
   "source": [
    "### Canal Estrella por Barrio\n"
   ]
  },
  {
   "attachments": {},
   "cell_type": "markdown",
   "id": "272854eb",
   "metadata": {},
   "source": [
    "A continuación, se puede observar gráficamente cómo es la distrbución de los barrios de Cali según su canal estrella. El canal estrella más representativo es el canal POS, seguido de Dispensador. "
   ]
  },
  {
   "attachments": {},
   "cell_type": "markdown",
   "id": "9a697b7f",
   "metadata": {},
   "source": [
    "<img src='Mapas\\Canal estrella.png' alt=\"Alternative text\" />"
   ]
  },
  {
   "attachments": {},
   "cell_type": "markdown",
   "id": "b336d3bb",
   "metadata": {},
   "source": [
    "### Canal Oprtunidad por Barrio\n"
   ]
  },
  {
   "attachments": {},
   "cell_type": "markdown",
   "id": "02914577",
   "metadata": {},
   "source": [
    "Fundamentalmente en el centro de Cali, el canal POS es el único canal (estrella y oportunidad). A su alrededor, el canaal estrella es Dispensador por lo que debe ser aquel en el que más se profundice en esta zona.  "
   ]
  },
  {
   "attachments": {},
   "cell_type": "markdown",
   "id": "c6f7c8aa",
   "metadata": {},
   "source": [
    "<img src='Mapas\\Canal Oportunidad.png' alt=\"Alternative text\" />"
   ]
  },
  {
   "attachments": {},
   "cell_type": "markdown",
   "id": "80ddf155",
   "metadata": {},
   "source": [
    "# Punto d\n",
    "\n",
    "Realizar analisis exploratorio de los datos, sacar conclusiones y plantear acciones de mejora para el negocio\n",
    "\n",
    "NOTA: Se debe agregar la documentación y trazabilidad del proceso realizado (Codigos y gráficas con las que se hicieron los análisis)"
   ]
  },
  {
   "cell_type": "code",
   "execution_count": 36,
   "id": "d8128e11",
   "metadata": {},
   "outputs": [],
   "source": [
    "df_agg_d = df_join.groupby(['codigo']).agg({'num_trx': ['sum', 'mean'],\n",
    "                                    'mnt_total_trx': ['sum', 'mean'],\n",
    "                                    'num_doc' : pd.Series.nunique },\n",
    "                                    group_keys=False)\n"
   ]
  },
  {
   "cell_type": "code",
   "execution_count": 37,
   "id": "af2731c7",
   "metadata": {},
   "outputs": [
    {
     "data": {
      "text/html": [
       "<div>\n",
       "<style scoped>\n",
       "    .dataframe tbody tr th:only-of-type {\n",
       "        vertical-align: middle;\n",
       "    }\n",
       "\n",
       "    .dataframe tbody tr th {\n",
       "        vertical-align: top;\n",
       "    }\n",
       "\n",
       "    .dataframe thead tr th {\n",
       "        text-align: left;\n",
       "    }\n",
       "\n",
       "    .dataframe thead tr:last-of-type th {\n",
       "        text-align: right;\n",
       "    }\n",
       "</style>\n",
       "<table border=\"1\" class=\"dataframe\">\n",
       "  <thead>\n",
       "    <tr>\n",
       "      <th></th>\n",
       "      <th colspan=\"2\" halign=\"left\">num_trx</th>\n",
       "      <th colspan=\"2\" halign=\"left\">mnt_total_trx</th>\n",
       "      <th>num_doc</th>\n",
       "    </tr>\n",
       "    <tr>\n",
       "      <th></th>\n",
       "      <th>sum</th>\n",
       "      <th>mean</th>\n",
       "      <th>sum</th>\n",
       "      <th>mean</th>\n",
       "      <th>nunique</th>\n",
       "    </tr>\n",
       "    <tr>\n",
       "      <th>codigo</th>\n",
       "      <th></th>\n",
       "      <th></th>\n",
       "      <th></th>\n",
       "      <th></th>\n",
       "      <th></th>\n",
       "    </tr>\n",
       "  </thead>\n",
       "  <tbody>\n",
       "    <tr>\n",
       "      <th>737995769</th>\n",
       "      <td>3518</td>\n",
       "      <td>3.799136</td>\n",
       "      <td>4.491310e+10</td>\n",
       "      <td>4.850227e+07</td>\n",
       "      <td>357</td>\n",
       "    </tr>\n",
       "    <tr>\n",
       "      <th>737995777</th>\n",
       "      <td>5</td>\n",
       "      <td>1.000000</td>\n",
       "      <td>3.303009e+07</td>\n",
       "      <td>6.606018e+06</td>\n",
       "      <td>5</td>\n",
       "    </tr>\n",
       "    <tr>\n",
       "      <th>737996696</th>\n",
       "      <td>20</td>\n",
       "      <td>4.000000</td>\n",
       "      <td>2.047027e+10</td>\n",
       "      <td>4.094054e+09</td>\n",
       "      <td>5</td>\n",
       "    </tr>\n",
       "    <tr>\n",
       "      <th>737996724</th>\n",
       "      <td>3</td>\n",
       "      <td>3.000000</td>\n",
       "      <td>3.046240e+09</td>\n",
       "      <td>3.046240e+09</td>\n",
       "      <td>1</td>\n",
       "    </tr>\n",
       "    <tr>\n",
       "      <th>737996726</th>\n",
       "      <td>2</td>\n",
       "      <td>2.000000</td>\n",
       "      <td>1.823323e+09</td>\n",
       "      <td>1.823323e+09</td>\n",
       "      <td>1</td>\n",
       "    </tr>\n",
       "    <tr>\n",
       "      <th>...</th>\n",
       "      <td>...</td>\n",
       "      <td>...</td>\n",
       "      <td>...</td>\n",
       "      <td>...</td>\n",
       "      <td>...</td>\n",
       "    </tr>\n",
       "    <tr>\n",
       "      <th>738017956</th>\n",
       "      <td>2</td>\n",
       "      <td>1.000000</td>\n",
       "      <td>1.479098e+07</td>\n",
       "      <td>7.395488e+06</td>\n",
       "      <td>2</td>\n",
       "    </tr>\n",
       "    <tr>\n",
       "      <th>738017969</th>\n",
       "      <td>1011</td>\n",
       "      <td>4.746479</td>\n",
       "      <td>2.499208e+10</td>\n",
       "      <td>1.173337e+08</td>\n",
       "      <td>162</td>\n",
       "    </tr>\n",
       "    <tr>\n",
       "      <th>738018074</th>\n",
       "      <td>1184</td>\n",
       "      <td>4.571429</td>\n",
       "      <td>1.508196e+10</td>\n",
       "      <td>5.823152e+07</td>\n",
       "      <td>187</td>\n",
       "    </tr>\n",
       "    <tr>\n",
       "      <th>738018187</th>\n",
       "      <td>3313</td>\n",
       "      <td>3.570043</td>\n",
       "      <td>1.529236e+10</td>\n",
       "      <td>1.647883e+07</td>\n",
       "      <td>551</td>\n",
       "    </tr>\n",
       "    <tr>\n",
       "      <th>738068452</th>\n",
       "      <td>1831</td>\n",
       "      <td>3.428839</td>\n",
       "      <td>1.203650e+11</td>\n",
       "      <td>2.254025e+08</td>\n",
       "      <td>429</td>\n",
       "    </tr>\n",
       "  </tbody>\n",
       "</table>\n",
       "<p>277 rows × 5 columns</p>\n",
       "</div>"
      ],
      "text/plain": [
       "          num_trx           mnt_total_trx               num_doc\n",
       "              sum      mean           sum          mean nunique\n",
       "codigo                                                         \n",
       "737995769    3518  3.799136  4.491310e+10  4.850227e+07     357\n",
       "737995777       5  1.000000  3.303009e+07  6.606018e+06       5\n",
       "737996696      20  4.000000  2.047027e+10  4.094054e+09       5\n",
       "737996724       3  3.000000  3.046240e+09  3.046240e+09       1\n",
       "737996726       2  2.000000  1.823323e+09  1.823323e+09       1\n",
       "...           ...       ...           ...           ...     ...\n",
       "738017956       2  1.000000  1.479098e+07  7.395488e+06       2\n",
       "738017969    1011  4.746479  2.499208e+10  1.173337e+08     162\n",
       "738018074    1184  4.571429  1.508196e+10  5.823152e+07     187\n",
       "738018187    3313  3.570043  1.529236e+10  1.647883e+07     551\n",
       "738068452    1831  3.428839  1.203650e+11  2.254025e+08     429\n",
       "\n",
       "[277 rows x 5 columns]"
      ]
     },
     "execution_count": 37,
     "metadata": {},
     "output_type": "execute_result"
    }
   ],
   "source": [
    "df_agg_d"
   ]
  },
  {
   "cell_type": "code",
   "execution_count": 38,
   "id": "9d04a0be",
   "metadata": {},
   "outputs": [
    {
     "data": {
      "text/html": [
       "<div>\n",
       "<style scoped>\n",
       "    .dataframe tbody tr th:only-of-type {\n",
       "        vertical-align: middle;\n",
       "    }\n",
       "\n",
       "    .dataframe tbody tr th {\n",
       "        vertical-align: top;\n",
       "    }\n",
       "\n",
       "    .dataframe thead th {\n",
       "        text-align: right;\n",
       "    }\n",
       "</style>\n",
       "<table border=\"1\" class=\"dataframe\">\n",
       "  <thead>\n",
       "    <tr style=\"text-align: right;\">\n",
       "      <th></th>\n",
       "      <th>codigo</th>\n",
       "      <th>nombre</th>\n",
       "      <th>tipo</th>\n",
       "      <th>cod_dispositivo</th>\n",
       "      <th>latitud</th>\n",
       "      <th>longitud</th>\n",
       "      <th>num_doc</th>\n",
       "      <th>tipo_doc</th>\n",
       "      <th>num_trx</th>\n",
       "      <th>mnt_total_trx</th>\n",
       "    </tr>\n",
       "  </thead>\n",
       "  <tbody>\n",
       "    <tr>\n",
       "      <th>0</th>\n",
       "      <td>737998257</td>\n",
       "      <td>La Campina</td>\n",
       "      <td>POS</td>\n",
       "      <td>12202503</td>\n",
       "      <td>3.479572</td>\n",
       "      <td>-76.525582</td>\n",
       "      <td>-2393994463924208659</td>\n",
       "      <td>1</td>\n",
       "      <td>2</td>\n",
       "      <td>12202503.0</td>\n",
       "    </tr>\n",
       "    <tr>\n",
       "      <th>1</th>\n",
       "      <td>737998257</td>\n",
       "      <td>La Campina</td>\n",
       "      <td>POS</td>\n",
       "      <td>10521045</td>\n",
       "      <td>3.480517</td>\n",
       "      <td>-76.525275</td>\n",
       "      <td>-5675531380015678594</td>\n",
       "      <td>1</td>\n",
       "      <td>1</td>\n",
       "      <td>5260522.5</td>\n",
       "    </tr>\n",
       "    <tr>\n",
       "      <th>2</th>\n",
       "      <td>737998257</td>\n",
       "      <td>La Campina</td>\n",
       "      <td>POS</td>\n",
       "      <td>10521045</td>\n",
       "      <td>3.480517</td>\n",
       "      <td>-76.525275</td>\n",
       "      <td>-5066077049535851626</td>\n",
       "      <td>1</td>\n",
       "      <td>1</td>\n",
       "      <td>5260522.5</td>\n",
       "    </tr>\n",
       "    <tr>\n",
       "      <th>3</th>\n",
       "      <td>737998257</td>\n",
       "      <td>La Campina</td>\n",
       "      <td>POS</td>\n",
       "      <td>13238282</td>\n",
       "      <td>3.479491</td>\n",
       "      <td>-76.525818</td>\n",
       "      <td>-5791329717693361241</td>\n",
       "      <td>1</td>\n",
       "      <td>1</td>\n",
       "      <td>6619141.0</td>\n",
       "    </tr>\n",
       "    <tr>\n",
       "      <th>4</th>\n",
       "      <td>737998257</td>\n",
       "      <td>La Campina</td>\n",
       "      <td>POS</td>\n",
       "      <td>12567517</td>\n",
       "      <td>3.480958</td>\n",
       "      <td>-76.525153</td>\n",
       "      <td>-397966594878551344</td>\n",
       "      <td>1</td>\n",
       "      <td>1</td>\n",
       "      <td>6283758.5</td>\n",
       "    </tr>\n",
       "  </tbody>\n",
       "</table>\n",
       "</div>"
      ],
      "text/plain": [
       "      codigo      nombre tipo  cod_dispositivo   latitud   longitud  \\\n",
       "0  737998257  La Campina  POS         12202503  3.479572 -76.525582   \n",
       "1  737998257  La Campina  POS         10521045  3.480517 -76.525275   \n",
       "2  737998257  La Campina  POS         10521045  3.480517 -76.525275   \n",
       "3  737998257  La Campina  POS         13238282  3.479491 -76.525818   \n",
       "4  737998257  La Campina  POS         12567517  3.480958 -76.525153   \n",
       "\n",
       "               num_doc  tipo_doc  num_trx  mnt_total_trx  \n",
       "0 -2393994463924208659         1        2     12202503.0  \n",
       "1 -5675531380015678594         1        1      5260522.5  \n",
       "2 -5066077049535851626         1        1      5260522.5  \n",
       "3 -5791329717693361241         1        1      6619141.0  \n",
       "4  -397966594878551344         1        1      6283758.5  "
      ]
     },
     "execution_count": 38,
     "metadata": {},
     "output_type": "execute_result"
    }
   ],
   "source": [
    "df_join.head()"
   ]
  },
  {
   "cell_type": "code",
   "execution_count": 39,
   "id": "e456db83",
   "metadata": {},
   "outputs": [
    {
     "name": "stdout",
     "output_type": "stream",
     "text": [
      "El numero de clientes unicos es: 10000\n",
      "El numero de transacciones: 304530\n",
      "Monto total transado: 15.5360316679185 billones\n"
     ]
    }
   ],
   "source": [
    "print('El numero de clientes unicos es: ' + str(df_join['num_doc'].unique().shape[0]))\n",
    "print('El numero de transacciones: ' + str(df_join['num_trx'].sum()))\n",
    "print('Monto total transado: ' + str(df_join['mnt_total_trx'].sum()/1000000000000) + ' billones')\n"
   ]
  },
  {
   "attachments": {},
   "cell_type": "markdown",
   "id": "0edf5f8b",
   "metadata": {},
   "source": [
    "### Top5 de Canales"
   ]
  },
  {
   "cell_type": "code",
   "execution_count": 40,
   "id": "a2eed174",
   "metadata": {},
   "outputs": [
    {
     "data": {
      "text/plain": [
       "DISPENSADOR    37690\n",
       "POS            37067\n",
       "SAI             9374\n",
       "CB              7076\n",
       "MF              3386\n",
       "PAC               17\n",
       "Name: tipo, dtype: int64"
      ]
     },
     "execution_count": 40,
     "metadata": {},
     "output_type": "execute_result"
    }
   ],
   "source": [
    "df_join['tipo'].value_counts()"
   ]
  },
  {
   "attachments": {},
   "cell_type": "markdown",
   "id": "1ffdec8b",
   "metadata": {},
   "source": [
    "### Top5 de Barrios: Participación Porcentual por TRX"
   ]
  },
  {
   "cell_type": "code",
   "execution_count": 41,
   "id": "458cd234",
   "metadata": {},
   "outputs": [
    {
     "data": {
      "text/plain": [
       "San Pedro                   1.741700\n",
       "Urbanización San Juaquín    1.429087\n",
       "Santa Mónica Residencial    1.251437\n",
       "Chipichape                  1.128624\n",
       "Unicentro Cali              1.036679\n",
       "Name: nombre, dtype: float64"
      ]
     },
     "execution_count": 41,
     "metadata": {},
     "output_type": "execute_result"
    }
   ],
   "source": [
    "df_join['nombre'].value_counts().head(5).sort_values(ascending=False)/df_join['num_trx'].sum()*100"
   ]
  },
  {
   "attachments": {},
   "cell_type": "markdown",
   "id": "cd47ba83",
   "metadata": {},
   "source": [
    "Cabe resaltar que según el número de transacciones, se evidencia una transaccionalidad dispersa en toda la zona geográfica de Cali. Sin embargo, al revisar la concentración de clientes, vemos una participación relaiva más alta en el sur de la ciudad. "
   ]
  },
  {
   "attachments": {},
   "cell_type": "markdown",
   "id": "fbada761",
   "metadata": {},
   "source": [
    "<img src='Mapas\\Clientes Unicos.png' alt=\"Alternative text\" />"
   ]
  },
  {
   "attachments": {},
   "cell_type": "markdown",
   "id": "5e115b3c",
   "metadata": {},
   "source": [
    "### Estadística descriptiva de TRX y Monto"
   ]
  },
  {
   "cell_type": "code",
   "execution_count": 42,
   "id": "e6ba5505",
   "metadata": {},
   "outputs": [
    {
     "data": {
      "text/plain": [
       "count    94610.000000\n",
       "mean         3.218793\n",
       "std          6.272047\n",
       "min          1.000000\n",
       "25%          1.000000\n",
       "50%          1.000000\n",
       "75%          3.000000\n",
       "max        315.000000\n",
       "Name: num_trx, dtype: float64"
      ]
     },
     "execution_count": 42,
     "metadata": {},
     "output_type": "execute_result"
    }
   ],
   "source": [
    "df_join['num_trx'].describe()"
   ]
  },
  {
   "cell_type": "code",
   "execution_count": 43,
   "id": "e3fb5740",
   "metadata": {},
   "outputs": [
    {
     "data": {
      "text/plain": [
       "count         0.094610\n",
       "mean        164.211306\n",
       "std        1357.421055\n",
       "min           0.000030\n",
       "25%           0.002569\n",
       "50%           0.020430\n",
       "75%           7.370069\n",
       "max      123209.539564\n",
       "Name: mnt_total_trx, dtype: float64"
      ]
     },
     "execution_count": 43,
     "metadata": {},
     "output_type": "execute_result"
    }
   ],
   "source": [
    "df_join['mnt_total_trx'].describe()/1000000"
   ]
  },
  {
   "attachments": {},
   "cell_type": "markdown",
   "id": "72fe0e32",
   "metadata": {},
   "source": [
    "Respecto al número de transacciones y al monto transado, se puede evidenciar una alta desviación, indicando la presencia de valores atípicos sobre todo en los percentiles más altos. \n",
    "\n",
    "A continuación se puede evidenciar dódne se encuentra el nivel de transacciones per cápita más elevado (color naranja), incluso salta una alerta sobre las zonas rojas en donde las TRX per cápita superan el nivel de 10."
   ]
  },
  {
   "attachments": {},
   "cell_type": "markdown",
   "id": "56e95052",
   "metadata": {},
   "source": [
    "<img src='Mapas\\trx percapita.png' alt=\"Alternative text\" />"
   ]
  },
  {
   "attachments": {},
   "cell_type": "markdown",
   "id": "3272be5d",
   "metadata": {},
   "source": [
    "Respecto al monto percápita, deben evaluarse las zonas en rojo, en las que este valor supera el nivel de $1000 millones. "
   ]
  },
  {
   "attachments": {},
   "cell_type": "markdown",
   "id": "8cea6a74",
   "metadata": {},
   "source": [
    "<img src='Mapas\\monto percapita.png' alt=\"Alternative text\" />"
   ]
  },
  {
   "attachments": {},
   "cell_type": "markdown",
   "id": "b8c55956",
   "metadata": {},
   "source": []
  },
  {
   "attachments": {},
   "cell_type": "markdown",
   "id": "b9d0897a",
   "metadata": {},
   "source": [
    "### Conclusiones Generales"
   ]
  },
  {
   "attachments": {},
   "cell_type": "markdown",
   "id": "16c35196",
   "metadata": {},
   "source": [
    "Existe una fuerte presencia de Nequi en todo el territorio caleño, sin embargo, para una gran porcentaje de los barrios, existe un único canal transaccional, predominantemente POS. Se sugiere enfocar los esfuerzos en una mayor penetración de segundos canales en estas zonas. \n",
    "\n",
    "Se evidencian algunas zonas de la ciduad con un nivel transaccional per cápita alto, en términos de número de transacciones per cápita y monto per cápita tranzado. Se sugiere revisar allí variables adicionales relacionadas con riesgo SARLAFT. \n",
    "\n",
    "Existe cerca de un 30% que ha transado en más de 5 barrios, evidenciando un porcentaje no despreciabel de clientes con una alta movilidad en la ciudad. Adicional, el comportamiento transacconal sobre todo en número de TRX está muy disperso por todo el territorio y no existe una alta concentración por barrios. Esta tendencia debería ser sostenible en el tiempo ya que coincide con una distribución homogénea de la presencia de Nequi en la ciudad. \n",
    "\n",
    "\n",
    "\n"
   ]
  },
  {
   "cell_type": "code",
   "execution_count": 44,
   "id": "31e776fb",
   "metadata": {},
   "outputs": [],
   "source": [
    "df_agg_d.to_excel('Bases_insumo\\Respuestas\\Barrios agregados.xlsx')"
   ]
  }
 ],
 "metadata": {
  "kernelspec": {
   "display_name": "Python 3 (ipykernel)",
   "language": "python",
   "name": "python3"
  },
  "language_info": {
   "codemirror_mode": {
    "name": "ipython",
    "version": 3
   },
   "file_extension": ".py",
   "mimetype": "text/x-python",
   "name": "python",
   "nbconvert_exporter": "python",
   "pygments_lexer": "ipython3",
   "version": "3.9.13"
  },
  "vscode": {
   "interpreter": {
    "hash": "c7dc04c5cb7182d9747320e4dab81082122b6410d56c6a5deb042ba20d92270c"
   }
  }
 },
 "nbformat": 4,
 "nbformat_minor": 5
}
